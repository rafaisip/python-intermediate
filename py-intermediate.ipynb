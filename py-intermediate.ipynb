{
  "metadata": {
    "language_info": {
      "codemirror_mode": {
        "name": "python",
        "version": 3
      },
      "file_extension": ".py",
      "mimetype": "text/x-python",
      "name": "python",
      "nbconvert_exporter": "python",
      "pygments_lexer": "ipython3",
      "version": "3.8"
    },
    "kernelspec": {
      "name": "python",
      "display_name": "Python (Pyodide)",
      "language": "python"
    }
  },
  "nbformat_minor": 4,
  "nbformat": 4,
  "cells": [
    {
      "cell_type": "code",
      "source": "'''Module 3: Individual Programming Assignment 1\nThinking Like a Programmer\nThis assignment covers your intermediate proficiency with Python.\n'''\n\ndef shift_letter(letter, shift):\n    '''Shift Letter. \n    4 points.\n    \n    Shift a letter right by the given number.\n    Wrap the letter around if it reaches the end of the alphabet.\n    Examples:\n    shift_letter(\"A\", 0) -> \"A\"\n    shift_letter(\"A\", 2) -> \"C\"\n    shift_letter(\"Z\", 1) -> \"A\"\n    shift_letter(\"X\", 5) -> \"C\"\n    shift_letter(\" \", _) -> \" \"\n    *Note: the single underscore `_` is used to acknowledge the presence\n        of a value without caring about its contents.\n    Parameters\n    ----------\n    letter: str\n        a single uppercase English letter, or a space.\n    shift: int\n        the number by which to shift the letter. \n    Returns\n    -------\n    str\n        the letter, shifted appropriately, if a letter.\n        a single space if the original letter was a space.\n    '''\n    # Replace `pass` with your code. \n    # Stay within the function. Only use the parameters as input. The function should return your answer.\n  \n    if letter == \" \":\n        return \" \"\n    else:\n        \n        return chr((ord(letter) - ord(\"A\") + shift) % 26 + ord(\"A\")) \n\ndef caesar_cipher(message, shift):\n    '''Caesar Cipher. \n    6 points.\n    \n    Apply a shift number to a string of uppercase English letters and spaces.\n    Parameters\n    ----------\n    message: str\n        a string of uppercase English letters and spaces.\n    shift: int\n        the number by which to shift the letters. \n    Returns\n    -------\n    str\n        the message, shifted appropriately.\n    '''\n    # Replace `pass` with your code. \n    # Stay within the function. Only use the parameters as input. The function should return your answer.\n    pass\n\ndef shift_by_letter(letter, letter_shift):\n    '''Shift By Letter. \n    4 points.\n    \n    Shift a letter to the right using the number equivalent of another letter.\n    The shift letter is any letter from A to Z, where A represents 0, B represents 1, \n        ..., Z represents 25.\n    Examples:\n    shift_by_letter(\"A\", \"A\") -> \"A\"\n    shift_by_letter(\"A\", \"C\") -> \"C\"\n    shift_by_letter(\"B\", \"K\") -> \"L\"\n    shift_by_letter(\" \", _) -> \" \"\n    Parameters\n    ----------\n    letter: str\n        a single uppercase English letter, or a space.\n    letter_shift: str\n        a single uppercase English letter.\n    Returns\n    -------\n    str\n        the letter, shifted appropriately.\n    '''\n    # Replace `pass` with your code. \n    # Stay within the function. Only use the parameters as input. The function should return your answer.\n    \n    if letter == \" \":\n        return \" \"\n    else:\n        return chr((ord(letter) - ord(\"A\") + (ord(letter_shift) - ord(\"A\"))) % 26 + ord(\"A\"))\n\ndef vigenere_cipher(message, key):\n    '''Vigenere Cipher. \n    6 points.\n    \n    Encrypts a message using a keyphrase instead of a static number.\n    Every letter in the message is shifted by the number represented by the \n        respective letter in the key.\n    Spaces should be ignored.\n    Example:\n    vigenere_cipher(\"A C\", \"KEY\") -> \"K A\"\n    If needed, the keyphrase is extended to match the length of the key.\n        If the key is \"KEY\" and the message is \"LONGTEXT\",\n        the key will be extended to be \"KEYKEYKE\".\n    Parameters\n    ----------\n    message: str\n        a string of uppercase English letters and spaces.\n    key: str\n        a string of uppercase English letters. Will never be longer than the message.\n        Will never contain spaces.\n    Returns\n    -------\n    str\n        the message, shifted appropriately.\n    '''\n    # Replace `pass` with your code. \n    # Stay within the function. Only use the parameters as input. The function should return your answer.\n    alphabet = \"ABCDEFGHIJKLMNOPQRSTUVWXYZ\"\n    final_message = \"\"\n    key_index = 0\n    while len(message) > len(key):\n        key += key\n            \n        key = key[0:len(message)]\n\n    for key_index,letter in enumerate(message):\n        if letter.isalpha():\n            index = alphabet.index(letter)\n            key_index_final = alphabet.index(key[key_index])\n            shifted_index = (index + key_index_final) % len(alphabet)\n            final_message += alphabet[shifted_index]\n        else:\n            final_message += \" \"\n    return final_message",
      "metadata": {
        "trusted": true
      },
      "execution_count": 9,
      "outputs": []
    },
    {
      "cell_type": "code",
      "source": "",
      "metadata": {},
      "execution_count": null,
      "outputs": []
    }
  ]
}